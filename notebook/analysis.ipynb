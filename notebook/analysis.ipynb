{
 "cells": [
  {
   "cell_type": "code",
   "execution_count": 2,
   "id": "46a59619",
   "metadata": {},
   "outputs": [],
   "source": [
    "import pandas as pd\n",
    "import numpy as np"
   ]
  },
  {
   "cell_type": "code",
   "execution_count": 3,
   "id": "29e3d78d",
   "metadata": {},
   "outputs": [
    {
     "name": "stdout",
     "output_type": "stream",
     "text": [
      "23705 found.\n"
     ]
    }
   ],
   "source": [
    "try:\n",
    "    df = pd.read_parquet('../data/landmarks_dataset.parquet')\n",
    "except FileNotFoundError:\n",
    "    print(f'no file found.')\n",
    "    exit()\n",
    "print(f'{len(df)} found.')"
   ]
  },
  {
   "cell_type": "code",
   "execution_count": 7,
   "id": "eed5f409",
   "metadata": {},
   "outputs": [
    {
     "name": "stdout",
     "output_type": "stream",
     "text": [
      "gender distribution:\n",
      "male      12391\n",
      "female    11314\n",
      "Name: gender_label, dtype: int64\n",
      "gender percentage:\n",
      "male      52.3\n",
      "female    47.7\n",
      "Name: gender_label, dtype: float64\n",
      "race distribution:\n",
      "white     10078\n",
      "black      4526\n",
      "indian     3975\n",
      "asian      3434\n",
      "other      1692\n",
      "Name: race_label, dtype: int64\n",
      "race percentage:\n",
      "asian     14.5\n",
      "black     19.1\n",
      "indian    16.8\n",
      "other      7.1\n",
      "white     42.5\n",
      "Name: race_label, dtype: float64\n"
     ]
    }
   ],
   "source": [
    "gender_records = df['gender_label'].value_counts()\n",
    "race_records = df['race_label'].value_counts()\n",
    "\n",
    "gender_perc = (df['gender_label'].value_counts(normalize=True) * 100).round(1)\n",
    "race_perc = (df['race_label'].value_counts(normalize=True).sort_index() * 100).round(1)\n",
    "\n",
    "print('gender distribution:')\n",
    "print(gender_records)\n",
    "print('gender percentage:')\n",
    "print(gender_perc)\n",
    "print('race distribution:')\n",
    "print(race_records)\n",
    "print('race percentage:')\n",
    "print(race_perc)"
   ]
  },
  {
   "cell_type": "code",
   "execution_count": 8,
   "id": "cc361b68",
   "metadata": {},
   "outputs": [
    {
     "name": "stdout",
     "output_type": "stream",
     "text": [
      "age distribution:\n",
      "Mean: 33.3\n",
      "Median: 29.0\n",
      "Std Dev: 19.9\n",
      "min: 1\n",
      "Max: 116\n",
      "\n"
     ]
    }
   ],
   "source": [
    "# age dist\n",
    "print('age distribution:')\n",
    "print(f\"Mean: {df['age'].mean():.1f}\")\n",
    "print(f\"Median: {df['age'].median()}\")\n",
    "print(f\"Std Dev: {df['age'].std():.1f}\")\n",
    "print(f\"min: {df['age'].min()}\")\n",
    "print(f\"Max: {df['age'].max()}\\n\")"
   ]
  },
  {
   "cell_type": "code",
   "execution_count": null,
   "id": "5e81d7d3",
   "metadata": {},
   "outputs": [
    {
     "name": "stdout",
     "output_type": "stream",
     "text": [
      "age distribution:\n",
      "0-10 yrs      3218\n",
      "11-20 yrs     1659\n",
      "21-30 yrs     7784\n",
      "31-40 yrs     4338\n",
      "41-60 yrs     4311\n",
      "61-120 yrs    2395\n",
      "Name: age_group, dtype: int64\n",
      "\n",
      "\n"
     ]
    }
   ],
   "source": [
    "bins = [0, 10, 20, 30, 40, 60 ,120]\n",
    "labels = ['0-10 yrs', '11-20 yrs', '21-30 yrs', '31-40 yrs', '41-60 yrs', '61-120 yrs']\n",
    "df['age_group'] = pd.cut(df['age'], bins=bins, labels=labels, right=True)\n",
    "age_group_counts = df['age_group'].value_counts().sort_index()\n",
    "print('age distribution:')\n",
    "print(age_group_counts)\n",
    "print(\"\\n\")"
   ]
  },
  {
   "cell_type": "code",
   "execution_count": 6,
   "id": "3a7667a6",
   "metadata": {},
   "outputs": [
    {
     "name": "stdout",
     "output_type": "stream",
     "text": [
      "detection success: 22612 / 23705 (95.4%)\n",
      "detection failed: 1093 / 23705 (4.6%)\n"
     ]
    }
   ],
   "source": [
    "success_counts = df['detection_successful'].value_counts()\n",
    "total = len(df)\n",
    "\n",
    "if True in success_counts:\n",
    "    num_success = success_counts[True]\n",
    "    perc_success = (num_success / total * 100).round(1)\n",
    "    print(f\"detection success: {num_success} / {total} ({perc_success}%)\")\n",
    "else:\n",
    "    num_success = 0\n",
    "    print(\"no samples detected.\")\n",
    "\n",
    "if False in success_counts:\n",
    "    num_fail = success_counts[False]\n",
    "    perc_fail = (num_fail / total * 100).round(1)\n",
    "    print(f\"detection failed: {num_fail} / {total} ({perc_fail}%)\")\n",
    "else:\n",
    "    print(\"no samples failed.\")"
   ]
  }
 ],
 "metadata": {
  "kernelspec": {
   "display_name": "tencent_cv",
   "language": "python",
   "name": "python3"
  },
  "language_info": {
   "codemirror_mode": {
    "name": "ipython",
    "version": 3
   },
   "file_extension": ".py",
   "mimetype": "text/x-python",
   "name": "python",
   "nbconvert_exporter": "python",
   "pygments_lexer": "ipython3",
   "version": "3.6.13"
  }
 },
 "nbformat": 4,
 "nbformat_minor": 5
}
